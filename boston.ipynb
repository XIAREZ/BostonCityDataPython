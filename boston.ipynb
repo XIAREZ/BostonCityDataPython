{
 "cells": [
  {
   "cell_type": "code",
   "execution_count": null,
   "metadata": {},
   "outputs": [],
   "source": [
    "import json\n",
    "import urlib.request\n",
    "import urlib.parse\n",
    "import urlib.error\n",
    "\n",
    "url = \"https://pollysnips.s3.amazonaws.com/bostonEmployeeSalaries.json\" \n",
    "uh = urlib.request.urlopen(url)\n",
    "data = uh.read().decode()\n",
    "print('Retrieved', len(data), 'characters')\n",
    "#print type of the data\n",
    "print(type(data))\n",
    "#convert the data to json\n",
    "js = json.loads(data)\n",
    "print(type(js))\n",
    "data = js[\"data\"]\n",
    "print(data[0])"
   ]
  }
 ],
 "metadata": {
  "kernelspec": {
   "display_name": "Python 3",
   "language": "python",
   "name": "python3"
  },
  "language_info": {
   "name": "python",
   "version": "3.11.1"
  },
  "orig_nbformat": 4,
  "vscode": {
   "interpreter": {
    "hash": "aee8b7b246df8f9039afb4144a1f6fd8d2ca17a180786b69acc140d282b71a49"
   }
  }
 },
 "nbformat": 4,
 "nbformat_minor": 2
}
